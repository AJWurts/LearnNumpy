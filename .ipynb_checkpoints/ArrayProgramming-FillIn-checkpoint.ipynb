{
 "cells": [
  {
   "cell_type": "markdown",
   "metadata": {},
   "source": [
    "# Array Programming also known as Vectorization"
   ]
  },
  {
   "cell_type": "code",
   "execution_count": 132,
   "metadata": {},
   "outputs": [],
   "source": [
    "import numpy as np\n",
    "import math"
   ]
  },
  {
   "cell_type": "markdown",
   "metadata": {},
   "source": [
    "## What is it?\n",
    "The fundamental idea behind Array Programming is that operations apply at once to an entire set of values.\n",
    "This creates a high level overview of the calculations and helps the programmer. It often removes many explicit loops.   \n",
    "\n",
    "Required when doing advanced calculations."
   ]
  },
  {
   "cell_type": "markdown",
   "metadata": {},
   "source": [
    "## Create Test Lists"
   ]
  },
  {
   "cell_type": "code",
   "execution_count": 133,
   "metadata": {},
   "outputs": [],
   "source": [
    "A = np.array([0,1,2,3,4,5,6,7,8])\n",
    "B = np.array([8,7,6,5,4,3,2,1,0])"
   ]
  },
  {
   "cell_type": "markdown",
   "metadata": {},
   "source": [
    "## Example 1: Addition:\n",
    "Add A and B together adding each corresponding index together.  \n",
    "Input: A, B  \n",
    "Expected Output: \n",
    "        \n",
    "         [0,1,2,3,4,5,6,7,8]\n",
    "        +[8,7,6,5,4,3,2,1,0]\n",
    "        --------------------\n",
    "         [8,8,8,8,8,8,8,8,8] <-- Output"
   ]
  },
  {
   "cell_type": "markdown",
   "metadata": {},
   "source": [
    "### Standard Python"
   ]
  },
  {
   "cell_type": "code",
   "execution_count": 134,
   "metadata": {},
   "outputs": [],
   "source": [
    "C1 = []\n",
    "for i in range(len(A)):\n",
    "    C1.append(A[i] + B[i]) ## Adds then saves to new list"
   ]
  },
  {
   "cell_type": "markdown",
   "metadata": {},
   "source": [
    "### Vectorized"
   ]
  },
  {
   "cell_type": "code",
   "execution_count": 135,
   "metadata": {},
   "outputs": [],
   "source": [
    "C2 = A + B ## Expanded to above calculation"
   ]
  },
  {
   "cell_type": "markdown",
   "metadata": {},
   "source": [
    "### Result"
   ]
  },
  {
   "cell_type": "code",
   "execution_count": 150,
   "metadata": {
    "scrolled": true
   },
   "outputs": [
    {
     "name": "stdout",
     "output_type": "stream",
     "text": [
      "C1 [8, 8, 8, 8, 8, 8, 8, 8, 8]\n",
      "C2 [8, 8, 8, 8, 8, 8, 8, 8, 8]\n"
     ]
    }
   ],
   "source": [
    "print(\"C1\", C1)\n",
    "print(\"C2\", list(C2))"
   ]
  },
  {
   "cell_type": "markdown",
   "metadata": {},
   "source": [
    "### Also works for Subtraction, Division, and Multiplication"
   ]
  },
  {
   "cell_type": "code",
   "execution_count": 137,
   "metadata": {},
   "outputs": [
    {
     "name": "stdout",
     "output_type": "stream",
     "text": [
      "Difference:  [-8 -6 -4 -2  0  2  4  6  8]\n",
      "Quotient:  [0.    0.125 0.25  0.375 0.5   0.625 0.75  0.875 1.   ]\n",
      "Scaler Multiplication:  [ 0  7 12 15 16 15 12  7  0]\n"
     ]
    }
   ],
   "source": [
    "print(\"Difference: \", A - B)\n",
    "print(\"Quotient: \", A / C2) \n",
    "print(\"Scaler Multiplication: \", A * B)"
   ]
  },
  {
   "cell_type": "markdown",
   "metadata": {},
   "source": [
    "### Timing \n",
    "Tested before recording  \n",
    "**Vectorized Time: 6.00e-7 Seconds**  \n",
    "**Standard Time: 45.70e-7 Seconds**   \n",
    "The vectorized calculation is 7.616 times faster, and easier to read once learned. "
   ]
  },
  {
   "cell_type": "markdown",
   "metadata": {},
   "source": [
    "## Example 2: Scaler Matrix Multiplication"
   ]
  },
  {
   "cell_type": "code",
   "execution_count": 138,
   "metadata": {},
   "outputs": [],
   "source": [
    "A = np.array([0,1,2,3,4,5,6,7,8])"
   ]
  },
  {
   "cell_type": "markdown",
   "metadata": {},
   "source": [
    "### Standard Python"
   ]
  },
  {
   "cell_type": "code",
   "execution_count": 139,
   "metadata": {},
   "outputs": [],
   "source": [
    "B1 = []\n",
    "for n in A:\n",
    "    B1.append(n * 4) ## Iterate through every item and multiply by 4 before adding to new list"
   ]
  },
  {
   "cell_type": "markdown",
   "metadata": {},
   "source": [
    "### Vectorized"
   ]
  },
  {
   "cell_type": "code",
   "execution_count": 140,
   "metadata": {},
   "outputs": [],
   "source": [
    "B2 = A * 4 # Vectorized: expands to calculation above essentially"
   ]
  },
  {
   "cell_type": "markdown",
   "metadata": {},
   "source": [
    "### Result"
   ]
  },
  {
   "cell_type": "code",
   "execution_count": 149,
   "metadata": {},
   "outputs": [
    {
     "name": "stdout",
     "output_type": "stream",
     "text": [
      "[0, 4, 8, 12, 16, 20, 24, 28, 32]\n",
      "[0, 4, 8, 12, 16, 20, 24, 28, 32]\n"
     ]
    }
   ],
   "source": [
    "print(B1)\n",
    "print(list(B2)) ## Originally a numpy array"
   ]
  },
  {
   "cell_type": "markdown",
   "metadata": {},
   "source": [
    "### Timing\n",
    "Vectorized: **8.44e-7 Seconds**   \n",
    "Standard: **40.8e-7 Seconds**"
   ]
  },
  {
   "cell_type": "markdown",
   "metadata": {},
   "source": [
    "## Example 3: Euclidean Distance  \n",
    "![/Euclidean Distance](./images/euclidean_distance.jpg)\n",
    "\n",
    "Formula:   \n",
    "\n",
    "        distance = sqrt(\n",
    "                       + (x1 - x2)^2\n",
    "                       + (y1 - y2)^2 \n",
    "                       + (z1 - z2)^2 \n",
    "                       + ... )\n",
    "        \n",
    "        \n",
    "Can be used to calculate the straight line distance between two points:  \n",
    "Point 1: (0,0)  \n",
    "Point 2: (5, 5)\n",
    "\n",
    "        distance = sqrt( (0 - 5)^2 + (0 - 5)^2 )  \n",
    "        distance = sqrt(50) = 7.0710678118654755\n"
   ]
  },
  {
   "cell_type": "code",
   "execution_count": 142,
   "metadata": {},
   "outputs": [],
   "source": [
    "A = np.array([0,1,2,3,4])\n",
    "B = np.array([8,7,6,5,4])"
   ]
  },
  {
   "cell_type": "markdown",
   "metadata": {},
   "source": [
    "### Standard Python\n"
   ]
  },
  {
   "cell_type": "code",
   "execution_count": 143,
   "metadata": {},
   "outputs": [],
   "source": [
    "## Only works for 1 dimensional arrays\n",
    "running_sum = 0\n",
    "\n",
    "for i in range(len(A)):\n",
    "    difference = A[i] - B[i]\n",
    "    power = difference ** 2\n",
    "    running_sum += power\n",
    "    \n",
    "dist1 = math.sqrt(running_sum)"
   ]
  },
  {
   "cell_type": "markdown",
   "metadata": {},
   "source": [
    "### Vectorized"
   ]
  },
  {
   "cell_type": "code",
   "execution_count": 144,
   "metadata": {},
   "outputs": [],
   "source": [
    "## Works on any array as long as A and B are the same shape\n",
    "dist2 = np.sqrt(             ## Square root of final number\n",
    "            np.sum(          ## Summation for every coord set\n",
    "                (A - B) ** 2 ## Difference and power\n",
    "            )\n",
    "        )"
   ]
  },
  {
   "cell_type": "code",
   "execution_count": 145,
   "metadata": {},
   "outputs": [
    {
     "name": "stdout",
     "output_type": "stream",
     "text": [
      "Standard Method 10.954451150103322\n",
      "Vectorized Method 10.954451150103322\n"
     ]
    }
   ],
   "source": [
    "print(\"Standard Method\", dist1)\n",
    "print(\"Vectorized Method\", dist2)"
   ]
  }
 ],
 "metadata": {
  "kernelspec": {
   "display_name": "Python 3",
   "language": "python",
   "name": "python3"
  },
  "language_info": {
   "codemirror_mode": {
    "name": "ipython",
    "version": 3
   },
   "file_extension": ".py",
   "mimetype": "text/x-python",
   "name": "python",
   "nbconvert_exporter": "python",
   "pygments_lexer": "ipython3",
   "version": "3.7.2"
  }
 },
 "nbformat": 4,
 "nbformat_minor": 2
}
