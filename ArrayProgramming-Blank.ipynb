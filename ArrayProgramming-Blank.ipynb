{
 "cells": [
  {
   "cell_type": "markdown",
   "metadata": {},
   "source": [
    "# Array Programming also known as Vectorization"
   ]
  },
  {
   "cell_type": "code",
   "execution_count": null,
   "metadata": {},
   "outputs": [],
   "source": [
    "import numpy as np\n",
    "import math"
   ]
  },
  {
   "cell_type": "markdown",
   "metadata": {},
   "source": [
    "## What is it?\n",
    "The fundamental idea behind Array Programming is that operations apply at once to an entire set of values.\n",
    "This creates a high level overview of the calculations and helps the programmer. It often removes many explicit loops.   \n",
    "\n",
    "Required when doing advanced calculations."
   ]
  },
  {
   "cell_type": "markdown",
   "metadata": {},
   "source": [
    "## Create Test Lists"
   ]
  },
  {
   "cell_type": "code",
   "execution_count": null,
   "metadata": {},
   "outputs": [],
   "source": [
    "A = np.array([0,1,2,3,4,5,6,7,8])\n",
    "B = np.array([8,7,6,5,4,3,2,1,0])"
   ]
  },
  {
   "cell_type": "markdown",
   "metadata": {},
   "source": [
    "## Example 1: Addition:\n",
    "Add A and B together adding each corresponding index together.  \n",
    "Input: A, B  \n",
    "Expected Output: \n",
    "        \n",
    "         [0,1,2,3,4,5,6,7,8]\n",
    "        +[8,7,6,5,4,3,2,1,0]\n",
    "        --------------------\n",
    "         [8,8,8,8,8,8,8,8,8] <-- Output"
   ]
  },
  {
   "cell_type": "markdown",
   "metadata": {},
   "source": [
    "### Standard Python"
   ]
  },
  {
   "cell_type": "code",
   "execution_count": null,
   "metadata": {},
   "outputs": [],
   "source": [
    "## Write the code"
   ]
  },
  {
   "cell_type": "markdown",
   "metadata": {},
   "source": [
    "### Vectorized"
   ]
  },
  {
   "cell_type": "code",
   "execution_count": null,
   "metadata": {},
   "outputs": [],
   "source": [
    "## Write the code"
   ]
  },
  {
   "cell_type": "markdown",
   "metadata": {},
   "source": [
    "### Result"
   ]
  },
  {
   "cell_type": "code",
   "execution_count": null,
   "metadata": {
    "scrolled": true
   },
   "outputs": [],
   "source": [
    "print(\"C1\", C1)\n",
    "print(\"C2\", list(C2))"
   ]
  },
  {
   "cell_type": "markdown",
   "metadata": {},
   "source": [
    "### Also works for Subtraction, Division, and Multiplication"
   ]
  },
  {
   "cell_type": "code",
   "execution_count": null,
   "metadata": {},
   "outputs": [],
   "source": [
    "## Write Subtraction Example\n",
    "\n",
    "## Write Division Example\n",
    "\n",
    "## Write Multiplication Example\n"
   ]
  },
  {
   "cell_type": "markdown",
   "metadata": {},
   "source": [
    "### Timing \n",
    "Tested before recording  \n",
    "**Vectorized Time: 6.00e-7 Seconds**  \n",
    "**Standard Time: 45.70e-7 Seconds**   \n",
    "The vectorized calculation is 7.616 times faster, and easier to read once learned. "
   ]
  },
  {
   "cell_type": "markdown",
   "metadata": {},
   "source": [
    "## Example 2: Scaler Matrix Multiplication\n",
    "Multiply each value in A by 4.  \n",
    "Input: A  \n",
    "Expected Output: \n",
    "        \n",
    "         [0,1,2,3,4,5,6,7,8]\n",
    "        *                 4\n",
    "        --------------------\n",
    "    [0,4,8,12,16,20,24,28,32] <-- Output"
   ]
  },
  {
   "cell_type": "code",
   "execution_count": null,
   "metadata": {},
   "outputs": [],
   "source": [
    "A = np.array([0,1,2,3,4,5,6,7,8])"
   ]
  },
  {
   "cell_type": "markdown",
   "metadata": {},
   "source": [
    "### Standard Python"
   ]
  },
  {
   "cell_type": "code",
   "execution_count": null,
   "metadata": {},
   "outputs": [],
   "source": [
    "## Write the code"
   ]
  },
  {
   "cell_type": "markdown",
   "metadata": {},
   "source": [
    "### Vectorized"
   ]
  },
  {
   "cell_type": "code",
   "execution_count": null,
   "metadata": {},
   "outputs": [],
   "source": [
    "## Write the code"
   ]
  },
  {
   "cell_type": "markdown",
   "metadata": {},
   "source": [
    "### Result"
   ]
  },
  {
   "cell_type": "code",
   "execution_count": null,
   "metadata": {},
   "outputs": [],
   "source": [
    "print(B1)\n",
    "print(list(B2)) ## Originally a numpy array"
   ]
  },
  {
   "cell_type": "markdown",
   "metadata": {},
   "source": [
    "### Timing\n",
    "Vectorized: **8.44e-7 Seconds**   \n",
    "Standard: **40.8e-7 Seconds**"
   ]
  },
  {
   "cell_type": "markdown",
   "metadata": {},
   "source": [
    "## Example 3: Euclidean Distance  \n",
    "![/Euclidean Distance](./images/euclidean_distance.jpg)\n",
    "\n",
    "Formula:   \n",
    "\n",
    "        distance = sqrt(\n",
    "                       + (x1 - x2)^2\n",
    "                       + (y1 - y2)^2 \n",
    "                       + (z1 - z2)^2 \n",
    "                       + ... )\n",
    "        \n",
    "        \n",
    "Can be used to calculate the straight line distance between two points:  \n",
    "Point 1: (0,0)  \n",
    "Point 2: (5, 5)\n",
    "\n",
    "        distance = sqrt( (0 - 5)^2 + (0 - 5)^2 )  \n",
    "        distance = sqrt(50) = 7.0710678118654755\n"
   ]
  },
  {
   "cell_type": "code",
   "execution_count": null,
   "metadata": {},
   "outputs": [],
   "source": [
    "A = np.array([0,1,2,3,4])\n",
    "B = np.array([8,7,6,5,4])\n",
    "\n",
    "\n",
    "## Larger 2 Dimensional Arrays\n",
    "# A = np.arange(100).reshape((10,10))\n",
    "# B = np.arange(100).reshape((10,10))[::-1]"
   ]
  },
  {
   "cell_type": "markdown",
   "metadata": {},
   "source": [
    "### Standard Python\n"
   ]
  },
  {
   "cell_type": "code",
   "execution_count": null,
   "metadata": {},
   "outputs": [],
   "source": [
    "## Write the code based on the formula\n",
    "## Fill in the ...\n",
    "\n",
    "running_sum = 0\n",
    "\n",
    "for i in range(len(A)):\n",
    "    difference = ... \n",
    "    power = ...\n",
    "    running_sum += ...\n",
    "    \n",
    "dist1 = ...\n",
    "dist1"
   ]
  },
  {
   "cell_type": "markdown",
   "metadata": {},
   "source": [
    "### Vectorized"
   ]
  },
  {
   "cell_type": "code",
   "execution_count": null,
   "metadata": {},
   "outputs": [],
   "source": [
    "diff = ...\n",
    "power = ...\n",
    "summation = ...\n",
    "dist2 = ...\n",
    "\n",
    "\n",
    "## Can you do it in one line?\n",
    "dist3 = ..."
   ]
  },
  {
   "cell_type": "code",
   "execution_count": null,
   "metadata": {},
   "outputs": [],
   "source": [
    "print(\"Standard Method\", dist1)\n",
    "print(\"Vectorized Method\", dist2)"
   ]
  }
 ],
 "metadata": {
  "kernelspec": {
   "display_name": "Python 3",
   "language": "python",
   "name": "python3"
  },
  "language_info": {
   "codemirror_mode": {
    "name": "ipython",
    "version": 3
   },
   "file_extension": ".py",
   "mimetype": "text/x-python",
   "name": "python",
   "nbconvert_exporter": "python",
   "pygments_lexer": "ipython3",
   "version": "3.7.2"
  }
 },
 "nbformat": 4,
 "nbformat_minor": 2
}
